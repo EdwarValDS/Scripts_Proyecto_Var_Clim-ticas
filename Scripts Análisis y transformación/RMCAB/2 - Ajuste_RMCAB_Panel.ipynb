{
 "cells": [
  {
   "cell_type": "markdown",
   "metadata": {},
   "source": [
    "# Cargar datos y librerías"
   ]
  },
  {
   "cell_type": "code",
   "execution_count": 2,
   "metadata": {},
   "outputs": [],
   "source": [
    "import pandas as pd\n",
    "import gc\n",
    "import warnings\n",
    "warnings.filterwarnings('ignore')"
   ]
  },
  {
   "cell_type": "markdown",
   "metadata": {},
   "source": [
    "# Limpieza y ajuste"
   ]
  },
  {
   "cell_type": "code",
   "execution_count": null,
   "metadata": {},
   "outputs": [],
   "source": [
    "df = pd.read_csv(f\"../Datos/RMCAB/Clean/Panel_RMCAB.csv\")\n",
    "df[\"Fecha_Hora\"] = df[\"Fecha\"] + \" \" + df[\"Hora\"]\n",
    "df[\"Fecha\"] = pd.to_datetime(df[\"Fecha\"])\n",
    "\n",
    "# Añadir una columna que identifique el año de cada registro\n",
    "df[\"Año\"] = df[\"Fecha\"].dt.year\n",
    "# Añadir una columna que identifique el trimestre de cada registro\n",
    "df[\"Trimestre\"] = df[\"Fecha\"].dt.to_period(\"Q\")\n",
    "\n",
    "df = df.drop(columns=[\"Unidades\",\"Fecha\",\"Hora\"])\n",
    "df"
   ]
  },
  {
   "cell_type": "markdown",
   "metadata": {},
   "source": [
    "## Panel trimestral"
   ]
  },
  {
   "cell_type": "code",
   "execution_count": 4,
   "metadata": {},
   "outputs": [],
   "source": [
    "# Procesar por año, guardando un archivo Excel por cada año\n",
    "for año, grupo_año in df.groupby(\"Año\"):\n",
    "    # Crear un archivo Excel donde cada hoja sea un trimestre de ese año\n",
    "    with pd.ExcelWriter(f\"../Datos/RMCAB/Clean/Panel_RMCAB_{año}.xlsx\") as writer:\n",
    "        # Agrupar por trimestre\n",
    "        for trimestre, grupo_trimestre in grupo_año.groupby(\"Trimestre\"):\n",
    "            # Limpiar columnas innecesarias\n",
    "            grupo_trimestre = grupo_trimestre.drop(columns=[\"Trimestre\", \"Año\"])\n",
    "            # Guardar cada trimestre en una hoja separada\n",
    "            grupo_trimestre.to_excel(writer, sheet_name=str(trimestre), index=False)"
   ]
  },
  {
   "cell_type": "code",
   "execution_count": null,
   "metadata": {},
   "outputs": [],
   "source": [
    "# Crear un archivo Excel donde cada hoja sea un trimestre por año\n",
    "#with pd.ExcelWriter(f\"../Datos/RMCAB/Clean/Panel_RMCAB_Trimestral.xlsx\") as writer:\n",
    "#    # Agrupar por trimestre\n",
    "#    for trimestre, grupo in df.groupby(df[\"Trimestre\"]):\n",
    "#        # Guardar cada grupo en una hoja separada\n",
    "#        grupo = grupo.drop(columns=[\"Trimestre\"])\n",
    "#        grupo.to_excel(writer, sheet_name=str(trimestre), index=False)"
   ]
  }
 ],
 "metadata": {
  "kernelspec": {
   "display_name": "Python 3",
   "language": "python",
   "name": "python3"
  },
  "language_info": {
   "codemirror_mode": {
    "name": "ipython",
    "version": 3
   },
   "file_extension": ".py",
   "mimetype": "text/x-python",
   "name": "python",
   "nbconvert_exporter": "python",
   "pygments_lexer": "ipython3",
   "version": "3.12.4"
  }
 },
 "nbformat": 4,
 "nbformat_minor": 2
}

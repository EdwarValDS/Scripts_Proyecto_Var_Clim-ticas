{
 "cells": [
  {
   "cell_type": "markdown",
   "metadata": {},
   "source": [
    "# Cargar datos y librerías"
   ]
  },
  {
   "cell_type": "code",
   "execution_count": 1,
   "metadata": {},
   "outputs": [],
   "source": [
    "import pandas as pd\n",
    "import warnings\n",
    "warnings.filterwarnings('ignore')"
   ]
  },
  {
   "cell_type": "markdown",
   "metadata": {},
   "source": [
    "# Limpieza y ajuste por año"
   ]
  },
  {
   "cell_type": "markdown",
   "metadata": {},
   "source": [
    "## Sec por año"
   ]
  },
  {
   "cell_type": "code",
   "execution_count": null,
   "metadata": {},
   "outputs": [
    {
     "name": "stdout",
     "output_type": "stream",
     "text": [
      "Datos cruzados para el año 2000 guardados en el archivo Excel.\n",
      "Datos cruzados para el año 2001 guardados en el archivo Excel.\n",
      "Datos cruzados para el año 2002 guardados en el archivo Excel.\n",
      "Datos cruzados para el año 2003 guardados en el archivo Excel.\n",
      "Datos cruzados para el año 2004 guardados en el archivo Excel.\n",
      "Datos cruzados para el año 2005 guardados en el archivo Excel.\n",
      "Datos cruzados para el año 2006 guardados en el archivo Excel.\n",
      "Datos cruzados para el año 2007 guardados en el archivo Excel.\n",
      "Datos cruzados para el año 2008 guardados en el archivo Excel.\n",
      "Datos cruzados para el año 2009 guardados en el archivo Excel.\n",
      "Datos cruzados para el año 2010 guardados en el archivo Excel.\n"
     ]
    }
   ],
   "source": [
    "with pd.ExcelWriter(\"../Datos/RMCAB/Clean/Seccion_Cruzada_RMCAB_Anual.xlsx\") as writer:\n",
    "    years = range(2000, 2025, 1)\n",
    "\n",
    "    for year in years:\n",
    "        # Cargar y procesar el archivo por año\n",
    "        df = pd.read_excel(f\"../Datos/RMCAB/Raw/Raw_RMCAB_{year}.xlsx\")\n",
    "        df = df.drop_duplicates()\n",
    "        df = df.drop(columns=[\"Unnamed: 0\", \"Máx\", \"Mín\"])\n",
    "\n",
    "        # Convertir la columna \"Fecha\" a formato datetime\n",
    "        df[\"Fecha\"] = pd.to_datetime(df[\"Fecha\"], format=\"%Y-%m-%d\")\n",
    "        \n",
    "        # Filtrar la base de datos por el año actual en el ciclo\n",
    "        df_filtered = df[df[\"Fecha\"].dt.year == year]\n",
    "\n",
    "        # Procesar los datos filtrados\n",
    "        panel_raw = pd.melt(df_filtered, id_vars=['parámetros', 'Fecha', 'Estación', \"Unidades\"], \n",
    "                            var_name='Hora', value_name='Valor')\n",
    "        panel_raw[\"Valor\"] = panel_raw[\"Valor\"].str.replace(\",\", \".\").astype(float)\n",
    "\n",
    "        panel_raw[\"Hora\"] = panel_raw[\"Hora\"].astype(str) + \":00:00\"\n",
    "        panel_raw[\"Hora\"] = panel_raw[\"Hora\"].replace(\"24:00:00\", \"00:00:00\")\n",
    "        panel_raw[\"Hora\"] = pd.to_datetime(panel_raw[\"Hora\"], format='%H:%M:%S').dt.time\n",
    "        panel_raw[\"Fecha_Hora\"] = pd.to_datetime(panel_raw[\"Fecha\"].astype(str) + \" \" + panel_raw[\"Hora\"].astype(str))\n",
    "        panel_raw = panel_raw.drop(columns=[\"Hora\", \"Fecha\", \"Unidades\"])\n",
    "\n",
    "        # Crear la tabla cruzada\n",
    "        cross = panel_raw.pivot_table(index=[\"Fecha_Hora\", \"Estación\"], columns=[\"parámetros\"], values=\"Valor\")\n",
    "        cross = cross.reset_index()\n",
    "        cross = cross.drop_duplicates()\n",
    "\n",
    "        # Guardar la tabla cruzada en una hoja separada por año\n",
    "        cross.to_excel(writer, sheet_name=str(year), index=False)\n",
    "\n",
    "        print(f\"Datos cruzados para el año {year} guardados en el archivo Excel.\")\n"
   ]
  }
 ],
 "metadata": {
  "kernelspec": {
   "display_name": "Python 3",
   "language": "python",
   "name": "python3"
  },
  "language_info": {
   "codemirror_mode": {
    "name": "ipython",
    "version": 3
   },
   "file_extension": ".py",
   "mimetype": "text/x-python",
   "name": "python",
   "nbconvert_exporter": "python",
   "pygments_lexer": "ipython3",
   "version": "3.12.4"
  }
 },
 "nbformat": 4,
 "nbformat_minor": 2
}

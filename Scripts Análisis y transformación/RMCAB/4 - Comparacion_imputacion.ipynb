{
 "cells": [
  {
   "cell_type": "markdown",
   "metadata": {},
   "source": [
    "# Librerías"
   ]
  },
  {
   "cell_type": "code",
   "execution_count": 2,
   "metadata": {},
   "outputs": [],
   "source": [
    "import pandas as pd"
   ]
  },
  {
   "cell_type": "markdown",
   "metadata": {},
   "source": [
    "# Datos"
   ]
  },
  {
   "cell_type": "code",
   "execution_count": 10,
   "metadata": {},
   "outputs": [],
   "source": [
    "estaciones_filtradas = ['Carvajal - Sevillana',\n",
    " 'Guaymaral',\n",
    " 'MinAmbiente',\n",
    " 'Puente Aranda',\n",
    " 'Suba',\n",
    " 'Usaquen',\n",
    " 'Las Ferias']\n",
    "\n",
    "dfs = pd.DataFrame()\n",
    "for nombre_estacion in estaciones_filtradas:\n",
    "    df = pd.read_csv(f\"../Datos/RMCAB/Clean/Datos_sin_faltantes/{nombre_estacion}_imputado.csv\")\n",
    "    dfs = pd.concat([dfs, df])"
   ]
  },
  {
   "cell_type": "markdown",
   "metadata": {},
   "source": [
    "# Disponibilidad actual"
   ]
  },
  {
   "cell_type": "code",
   "execution_count": null,
   "metadata": {},
   "outputs": [],
   "source": [
    "variables = dfs.columns[2:].tolist()\n",
    "\n",
    "df_disp_final = pd.DataFrame(columns=[\"Estación\", \"Variable\", \"Disp_2000\", \"Disp_inicial\", \"Fecha_inicial\"])\n",
    "\n",
    "for estacion in estaciones_filtradas:\n",
    "\n",
    "    e = dfs[dfs[\"Estación\"] == estacion]\n",
    "\n",
    "    disp_2000 = []\n",
    "    disp_principio = []\n",
    "    disp_var = []\n",
    "    fechas_iniciales = []\n",
    "    for var in variables:\n",
    "\n",
    "        df_disp = e[var]\n",
    "        disponibilidad_2000 = df_disp.isna().sum() / len(df_disp)\n",
    "        fecha_inicial = df_disp.dropna().index.min()\n",
    "        disp_prin = df_disp.loc[df_disp.index >= fecha_inicial].isna().sum() / len(df_disp.loc[df_disp.index >= fecha_inicial])\n",
    "\n",
    "        disp_2000.append(1-disponibilidad_2000)\n",
    "        disp_var.append(var)\n",
    "        disp_principio.append(1-disp_prin)\n",
    "\n",
    "        fechas_iniciales.append(fecha_inicial)\n",
    "\n",
    "    disp_df = pd.DataFrame({\"Variable\": disp_var, \"Disp_2000\": disp_2000,\"Disp_inicial\":disp_principio, \"Fecha_inicial\":fechas_iniciales}).round(2)\n",
    "    disp_df[\"Estación\"] = estacion\n",
    "    disp_df = disp_df.sort_values(by=\"Disp_inicial\", ascending=False)\n",
    "    disp_df = disp_df.dropna()\n",
    "    df_disp_final = pd.concat([df_disp_final, disp_df], ignore_index=True)"
   ]
  },
  {
   "cell_type": "code",
   "execution_count": 20,
   "metadata": {},
   "outputs": [],
   "source": [
    "pivot_df = df_disp_final.pivot(index='Estación', columns='Variable', values='Disp_2000')\n",
    "pivot_df.to_excel(\"../Datos/RMCAB/Clean/Disponibilidad_2000_imputados.xlsx\")"
   ]
  },
  {
   "cell_type": "markdown",
   "metadata": {},
   "source": [
    "# Importación"
   ]
  },
  {
   "cell_type": "markdown",
   "metadata": {},
   "source": [
    "## Sec cruzada"
   ]
  },
  {
   "cell_type": "code",
   "execution_count": 24,
   "metadata": {},
   "outputs": [
    {
     "name": "stdout",
     "output_type": "stream",
     "text": [
      "Guardado 2000\n",
      "Guardado 2001\n",
      "Guardado 2002\n",
      "Guardado 2003\n",
      "Guardado 2004\n",
      "Guardado 2005\n",
      "Guardado 2006\n",
      "Guardado 2007\n",
      "Guardado 2008\n",
      "Guardado 2009\n",
      "Guardado 2010\n",
      "Guardado 2011\n",
      "Guardado 2012\n",
      "Guardado 2013\n",
      "Guardado 2014\n",
      "Guardado 2015\n",
      "Guardado 2016\n",
      "Guardado 2017\n",
      "Guardado 2018\n",
      "Guardado 2019\n",
      "Guardado 2020\n",
      "Guardado 2021\n",
      "Guardado 2022\n",
      "Guardado 2023\n",
      "Guardado 2024\n"
     ]
    }
   ],
   "source": [
    "cross = dfs.copy()\n",
    "cross[\"Fecha_Hora\"] = pd.to_datetime(cross[\"Fecha_Hora\"])\n",
    "cross[\"Año\"] = cross[\"Fecha_Hora\"].dt.year\n",
    "\n",
    "for año, grupo_año in cross.groupby(\"Año\"):\n",
    "    with pd.ExcelWriter(f\"../Datos/RMCAB/Clean/Sec_Cruzada_por_año/Sec_Cross_RMCAB_{año}_imputados.xlsx\") as writer:\n",
    "        #grupo_año = grupo_año.head(10)\n",
    "        grupo_año = grupo_año.drop(columns=[\"Año\"])\n",
    "        grupo_año.to_excel(writer, sheet_name=str(año), index=False)\n",
    "        print(\"Guardado\", año)"
   ]
  },
  {
   "cell_type": "code",
   "execution_count": 4,
   "metadata": {},
   "outputs": [],
   "source": [
    "#df = pd.read\"../Datos/RMCAB/Clean/Datos_sin_faltantes/{nombre_estacion}_imputado.csv\""
   ]
  }
 ],
 "metadata": {
  "kernelspec": {
   "display_name": "Python 3",
   "language": "python",
   "name": "python3"
  },
  "language_info": {
   "codemirror_mode": {
    "name": "ipython",
    "version": 3
   },
   "file_extension": ".py",
   "mimetype": "text/x-python",
   "name": "python",
   "nbconvert_exporter": "python",
   "pygments_lexer": "ipython3",
   "version": "3.12.4"
  }
 },
 "nbformat": 4,
 "nbformat_minor": 2
}

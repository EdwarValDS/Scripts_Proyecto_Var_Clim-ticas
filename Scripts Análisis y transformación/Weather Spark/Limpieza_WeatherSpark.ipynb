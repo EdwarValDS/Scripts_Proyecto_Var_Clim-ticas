{
 "cells": [
  {
   "cell_type": "markdown",
   "metadata": {},
   "source": [
    "# Librerías"
   ]
  },
  {
   "cell_type": "code",
   "execution_count": 68,
   "metadata": {},
   "outputs": [],
   "source": [
    "import pandas as pd\n",
    "import numpy as np\n",
    "import matplotlib.pyplot as plt"
   ]
  },
  {
   "cell_type": "markdown",
   "metadata": {},
   "source": [
    "# Limpieza"
   ]
  },
  {
   "cell_type": "markdown",
   "metadata": {},
   "source": [
    "## Cargar datos"
   ]
  },
  {
   "cell_type": "code",
   "execution_count": 69,
   "metadata": {},
   "outputs": [],
   "source": [
    "df_2024 = pd.read_csv(\"./Raw/Raw_Weather_Spark_2024.csv\")"
   ]
  },
  {
   "cell_type": "code",
   "execution_count": 70,
   "metadata": {},
   "outputs": [
    {
     "name": "stdout",
     "output_type": "stream",
     "text": [
      "Porcentaje valores nulos antes de rellenado:  0.05859947260474656\n",
      "Porcentaje valores nulos antes después de rellenado:  0.0\n"
     ]
    },
    {
     "name": "stderr",
     "output_type": "stream",
     "text": [
      "C:\\Users\\Edward\\AppData\\Local\\Temp\\ipykernel_5988\\3358640151.py:10: FutureWarning: Series.fillna with 'method' is deprecated and will raise in a future version. Use obj.ffill() or obj.bfill() instead.\n",
      "  df_2024[\"Temp.\"] = df_2024[\"Temp.\"].fillna(method='ffill')\n"
     ]
    }
   ],
   "source": [
    "df_2024[\"Temp.\"] = df_2024[\"Temp.\"].str.replace(\"Â°C\", \"\")\n",
    "df_2024[\"Temp.\"] = df_2024[\"Temp.\"].str.replace(\"Ã‚\", \"\")\n",
    "df_2024[\"Temp.\"] = df_2024[\"Temp.\"].str.replace(\",\", \".\")\n",
    "df_2024[\"Temp.\"] = df_2024[\"Temp.\"].str.replace(\"-\", \"NaN\")\n",
    "df_2024[\"Temp.\"] = df_2024[\"Temp.\"].str.replace(\"No hay informes\", \"NaN\")\n",
    "df_2024[\"Temp.\"] = df_2024[\"Temp.\"].replace(\"NaN\", np.nan)\n",
    "\n",
    "print(\"Porcentaje valores nulos antes de rellenado: \", (df_2024[\"Temp.\"].isna().sum()/len(df_2024))*100)\n",
    "\n",
    "df_2024[\"Temp.\"] = df_2024[\"Temp.\"].fillna(method='ffill')\n",
    "df_2024[\"Temp.\"] = df_2024[\"Temp.\"].str.replace(\"NaN\", \"-\") # Para arreglar los valores negativos\n",
    "df_2024[\"Temp.\"] = df_2024[\"Temp.\"].astype(float)\n",
    "\n",
    "print(\"Porcentaje valores nulos antes después de rellenado: \", (df_2024[\"Temp.\"].isna().sum()/len(df_2024))*100)"
   ]
  },
  {
   "cell_type": "code",
   "execution_count": 71,
   "metadata": {},
   "outputs": [
    {
     "data": {
      "text/html": [
       "<div>\n",
       "<style scoped>\n",
       "    .dataframe tbody tr th:only-of-type {\n",
       "        vertical-align: middle;\n",
       "    }\n",
       "\n",
       "    .dataframe tbody tr th {\n",
       "        vertical-align: top;\n",
       "    }\n",
       "\n",
       "    .dataframe thead th {\n",
       "        text-align: right;\n",
       "    }\n",
       "</style>\n",
       "<table border=\"1\" class=\"dataframe\">\n",
       "  <thead>\n",
       "    <tr style=\"text-align: right;\">\n",
       "      <th></th>\n",
       "      <th>Hora</th>\n",
       "      <th>Temp.</th>\n",
       "      <th>Alt.</th>\n",
       "      <th>Viento</th>\n",
       "      <th>Vis.</th>\n",
       "      <th>Nubosidad</th>\n",
       "      <th>Fecha</th>\n",
       "    </tr>\n",
       "  </thead>\n",
       "  <tbody>\n",
       "    <tr>\n",
       "      <th>0</th>\n",
       "      <td>12:00 a. m.</td>\n",
       "      <td>14.0</td>\n",
       "      <td>1.029 mbar</td>\n",
       "      <td>3,70 km/h</td>\n",
       "      <td>10,00 km</td>\n",
       "      <td>Mayormente nublado (2.134 m)</td>\n",
       "      <td>2024-01-01</td>\n",
       "    </tr>\n",
       "    <tr>\n",
       "      <th>1</th>\n",
       "      <td>12:00 a. m.</td>\n",
       "      <td>14.0</td>\n",
       "      <td>1.029 mbar</td>\n",
       "      <td>3,60 km/h</td>\n",
       "      <td>10,00 km</td>\n",
       "      <td>Mayormente nublado (2.134 m)</td>\n",
       "      <td>2024-01-01</td>\n",
       "    </tr>\n",
       "    <tr>\n",
       "      <th>2</th>\n",
       "      <td>1:00 a. m.</td>\n",
       "      <td>14.0</td>\n",
       "      <td>1.028 mbar</td>\n",
       "      <td>3,70 km/h</td>\n",
       "      <td>10,00 km</td>\n",
       "      <td>Mayormente nublado (2.134 m)</td>\n",
       "      <td>2024-01-01</td>\n",
       "    </tr>\n",
       "    <tr>\n",
       "      <th>3</th>\n",
       "      <td>1:00 a. m.</td>\n",
       "      <td>13.7</td>\n",
       "      <td>-</td>\n",
       "      <td>3,60 km/h, N</td>\n",
       "      <td>15,0 km</td>\n",
       "      <td>Nublado</td>\n",
       "      <td>2024-01-01</td>\n",
       "    </tr>\n",
       "    <tr>\n",
       "      <th>4</th>\n",
       "      <td>1:00 a. m.</td>\n",
       "      <td>14.0</td>\n",
       "      <td>1.028 mbar</td>\n",
       "      <td>3,60 km/h</td>\n",
       "      <td>10,00 km</td>\n",
       "      <td>Mayormente nublado (2.134 m)</td>\n",
       "      <td>2024-01-01</td>\n",
       "    </tr>\n",
       "    <tr>\n",
       "      <th>...</th>\n",
       "      <td>...</td>\n",
       "      <td>...</td>\n",
       "      <td>...</td>\n",
       "      <td>...</td>\n",
       "      <td>...</td>\n",
       "      <td>...</td>\n",
       "      <td>...</td>\n",
       "    </tr>\n",
       "    <tr>\n",
       "      <th>10234</th>\n",
       "      <td>7:00 p. m.</td>\n",
       "      <td>15.0</td>\n",
       "      <td>1.025 mbar</td>\n",
       "      <td>9,26 km/h, O</td>\n",
       "      <td>10,00 km</td>\n",
       "      <td>Mayormente nublado (610 m)</td>\n",
       "      <td>2024-12-31</td>\n",
       "    </tr>\n",
       "    <tr>\n",
       "      <th>10235</th>\n",
       "      <td>8:00 p. m.</td>\n",
       "      <td>15.0</td>\n",
       "      <td>1.026 mbar</td>\n",
       "      <td>7,41 km/h, O</td>\n",
       "      <td>10,00 km</td>\n",
       "      <td>Parcialmente nublado (610 m)</td>\n",
       "      <td>2024-12-31</td>\n",
       "    </tr>\n",
       "    <tr>\n",
       "      <th>10236</th>\n",
       "      <td>9:00 p. m.</td>\n",
       "      <td>13.0</td>\n",
       "      <td>1.026 mbar</td>\n",
       "      <td>3,70 km/h</td>\n",
       "      <td>10,00 km</td>\n",
       "      <td>Mayormente despejado (610 m)</td>\n",
       "      <td>2024-12-31</td>\n",
       "    </tr>\n",
       "    <tr>\n",
       "      <th>10237</th>\n",
       "      <td>10:00 p. m.</td>\n",
       "      <td>11.0</td>\n",
       "      <td>1.027 mbar</td>\n",
       "      <td>0 km/h</td>\n",
       "      <td>10,00 km</td>\n",
       "      <td>Parcialmente nublado (2.134 m)</td>\n",
       "      <td>2024-12-31</td>\n",
       "    </tr>\n",
       "    <tr>\n",
       "      <th>10238</th>\n",
       "      <td>11:00 p. m.</td>\n",
       "      <td>10.0</td>\n",
       "      <td>1.027 mbar</td>\n",
       "      <td>5,56 km/h, N</td>\n",
       "      <td>10,00 km</td>\n",
       "      <td>Parcialmente nublado (2.134 m)</td>\n",
       "      <td>2024-12-31</td>\n",
       "    </tr>\n",
       "  </tbody>\n",
       "</table>\n",
       "<p>10239 rows × 7 columns</p>\n",
       "</div>"
      ],
      "text/plain": [
       "              Hora  Temp.        Alt.        Viento      Vis.  \\\n",
       "0      12:00 a. m.   14.0  1.029 mbar     3,70 km/h  10,00 km   \n",
       "1      12:00 a. m.   14.0  1.029 mbar     3,60 km/h  10,00 km   \n",
       "2       1:00 a. m.   14.0  1.028 mbar     3,70 km/h  10,00 km   \n",
       "3       1:00 a. m.   13.7           -  3,60 km/h, N   15,0 km   \n",
       "4       1:00 a. m.   14.0  1.028 mbar     3,60 km/h  10,00 km   \n",
       "...            ...    ...         ...           ...       ...   \n",
       "10234   7:00 p. m.   15.0  1.025 mbar  9,26 km/h, O  10,00 km   \n",
       "10235   8:00 p. m.   15.0  1.026 mbar  7,41 km/h, O  10,00 km   \n",
       "10236   9:00 p. m.   13.0  1.026 mbar     3,70 km/h  10,00 km   \n",
       "10237  10:00 p. m.   11.0  1.027 mbar        0 km/h  10,00 km   \n",
       "10238  11:00 p. m.   10.0  1.027 mbar  5,56 km/h, N  10,00 km   \n",
       "\n",
       "                            Nubosidad       Fecha  \n",
       "0        Mayormente nublado (2.134 m)  2024-01-01  \n",
       "1        Mayormente nublado (2.134 m)  2024-01-01  \n",
       "2        Mayormente nublado (2.134 m)  2024-01-01  \n",
       "3                             Nublado  2024-01-01  \n",
       "4        Mayormente nublado (2.134 m)  2024-01-01  \n",
       "...                               ...         ...  \n",
       "10234      Mayormente nublado (610 m)  2024-12-31  \n",
       "10235    Parcialmente nublado (610 m)  2024-12-31  \n",
       "10236    Mayormente despejado (610 m)  2024-12-31  \n",
       "10237  Parcialmente nublado (2.134 m)  2024-12-31  \n",
       "10238  Parcialmente nublado (2.134 m)  2024-12-31  \n",
       "\n",
       "[10239 rows x 7 columns]"
      ]
     },
     "execution_count": 71,
     "metadata": {},
     "output_type": "execute_result"
    }
   ],
   "source": [
    "df_2024"
   ]
  },
  {
   "cell_type": "code",
   "execution_count": 72,
   "metadata": {},
   "outputs": [],
   "source": [
    "df_comp = pd.read_excel(\"./Raw/Datos_En_Crudo_Weather_Spark_Bogota.xlsx\")"
   ]
  },
  {
   "cell_type": "code",
   "execution_count": 73,
   "metadata": {},
   "outputs": [
    {
     "data": {
      "text/html": [
       "<div>\n",
       "<style scoped>\n",
       "    .dataframe tbody tr th:only-of-type {\n",
       "        vertical-align: middle;\n",
       "    }\n",
       "\n",
       "    .dataframe tbody tr th {\n",
       "        vertical-align: top;\n",
       "    }\n",
       "\n",
       "    .dataframe thead th {\n",
       "        text-align: right;\n",
       "    }\n",
       "</style>\n",
       "<table border=\"1\" class=\"dataframe\">\n",
       "  <thead>\n",
       "    <tr style=\"text-align: right;\">\n",
       "      <th></th>\n",
       "      <th>Hora</th>\n",
       "      <th>Temp.</th>\n",
       "      <th>Alt.</th>\n",
       "      <th>Viento</th>\n",
       "      <th>Vis.</th>\n",
       "      <th>Nubosidad</th>\n",
       "      <th>Fecha</th>\n",
       "    </tr>\n",
       "  </thead>\n",
       "  <tbody>\n",
       "    <tr>\n",
       "      <th>0</th>\n",
       "      <td>12:00 a. m.</td>\n",
       "      <td>11.0</td>\n",
       "      <td>1.025 mbar</td>\n",
       "      <td>-</td>\n",
       "      <td>11,3 km</td>\n",
       "      <td>Parcialmente nublado</td>\n",
       "      <td>2000-01-01</td>\n",
       "    </tr>\n",
       "    <tr>\n",
       "      <th>1</th>\n",
       "      <td>1:00 a. m.</td>\n",
       "      <td>11.7</td>\n",
       "      <td>1.024 mbar</td>\n",
       "      <td>7,20 km/h, O</td>\n",
       "      <td>10,00 km</td>\n",
       "      <td>Six oktas - 7/10 - 8/10</td>\n",
       "      <td>2000-01-01</td>\n",
       "    </tr>\n",
       "    <tr>\n",
       "      <th>2</th>\n",
       "      <td>2:00 a. m.</td>\n",
       "      <td>11.0</td>\n",
       "      <td>1.024 mbar</td>\n",
       "      <td>0 km/h</td>\n",
       "      <td>11,3 km</td>\n",
       "      <td>Parcialmente nublado</td>\n",
       "      <td>2000-01-01</td>\n",
       "    </tr>\n",
       "    <tr>\n",
       "      <th>3</th>\n",
       "      <td>3:00 a. m.</td>\n",
       "      <td>0.0</td>\n",
       "      <td>No hay informes</td>\n",
       "      <td>No hay informes</td>\n",
       "      <td>No hay informes</td>\n",
       "      <td>NaN</td>\n",
       "      <td>2000-01-01</td>\n",
       "    </tr>\n",
       "    <tr>\n",
       "      <th>4</th>\n",
       "      <td>4:00 a. m.</td>\n",
       "      <td>11.0</td>\n",
       "      <td>-</td>\n",
       "      <td>0 km/h</td>\n",
       "      <td>12,0 km</td>\n",
       "      <td>Six oktas - 7/10 - 8/10</td>\n",
       "      <td>2000-01-01</td>\n",
       "    </tr>\n",
       "    <tr>\n",
       "      <th>...</th>\n",
       "      <td>...</td>\n",
       "      <td>...</td>\n",
       "      <td>...</td>\n",
       "      <td>...</td>\n",
       "      <td>...</td>\n",
       "      <td>...</td>\n",
       "      <td>...</td>\n",
       "    </tr>\n",
       "    <tr>\n",
       "      <th>375895</th>\n",
       "      <td>10:00 p. m.</td>\n",
       "      <td>13.0</td>\n",
       "      <td>1.029 mbar</td>\n",
       "      <td>3,70 km/h</td>\n",
       "      <td>10,00 km</td>\n",
       "      <td>Mayormente nublado (518 m)</td>\n",
       "      <td>2023-12-31</td>\n",
       "    </tr>\n",
       "    <tr>\n",
       "      <th>375896</th>\n",
       "      <td>10:00 p. m.</td>\n",
       "      <td>12.6</td>\n",
       "      <td>-</td>\n",
       "      <td>3,60 km/h</td>\n",
       "      <td>15,0 km</td>\n",
       "      <td>Mayormente nublado</td>\n",
       "      <td>2023-12-31</td>\n",
       "    </tr>\n",
       "    <tr>\n",
       "      <th>375897</th>\n",
       "      <td>10:00 p. m.</td>\n",
       "      <td>13.0</td>\n",
       "      <td>1.029 mbar</td>\n",
       "      <td>3,60 km/h</td>\n",
       "      <td>10,00 km</td>\n",
       "      <td>Mayormente nublado (518 m)</td>\n",
       "      <td>2023-12-31</td>\n",
       "    </tr>\n",
       "    <tr>\n",
       "      <th>375898</th>\n",
       "      <td>11:00 p. m.</td>\n",
       "      <td>14.0</td>\n",
       "      <td>1.029 mbar</td>\n",
       "      <td>7,41 km/h, O</td>\n",
       "      <td>10,00 km</td>\n",
       "      <td>Mayormente nublado (2.134 m)</td>\n",
       "      <td>2023-12-31</td>\n",
       "    </tr>\n",
       "    <tr>\n",
       "      <th>375899</th>\n",
       "      <td>11:00 p. m.</td>\n",
       "      <td>14.0</td>\n",
       "      <td>1.029 mbar</td>\n",
       "      <td>7,56 km/h, O</td>\n",
       "      <td>10,00 km</td>\n",
       "      <td>Mayormente nublado (2.134 m)</td>\n",
       "      <td>2023-12-31</td>\n",
       "    </tr>\n",
       "  </tbody>\n",
       "</table>\n",
       "<p>375900 rows × 7 columns</p>\n",
       "</div>"
      ],
      "text/plain": [
       "               Hora  Temp.             Alt.           Viento             Vis.  \\\n",
       "0       12:00 a. m.   11.0       1.025 mbar                -          11,3 km   \n",
       "1        1:00 a. m.   11.7       1.024 mbar     7,20 km/h, O         10,00 km   \n",
       "2        2:00 a. m.   11.0       1.024 mbar           0 km/h          11,3 km   \n",
       "3        3:00 a. m.    0.0  No hay informes  No hay informes  No hay informes   \n",
       "4        4:00 a. m.   11.0                -           0 km/h          12,0 km   \n",
       "...             ...    ...              ...              ...              ...   \n",
       "375895  10:00 p. m.   13.0       1.029 mbar        3,70 km/h         10,00 km   \n",
       "375896  10:00 p. m.   12.6                -        3,60 km/h          15,0 km   \n",
       "375897  10:00 p. m.   13.0       1.029 mbar        3,60 km/h         10,00 km   \n",
       "375898  11:00 p. m.   14.0       1.029 mbar     7,41 km/h, O         10,00 km   \n",
       "375899  11:00 p. m.   14.0       1.029 mbar     7,56 km/h, O         10,00 km   \n",
       "\n",
       "                           Nubosidad      Fecha  \n",
       "0               Parcialmente nublado 2000-01-01  \n",
       "1            Six oktas - 7/10 - 8/10 2000-01-01  \n",
       "2               Parcialmente nublado 2000-01-01  \n",
       "3                                NaN 2000-01-01  \n",
       "4            Six oktas - 7/10 - 8/10 2000-01-01  \n",
       "...                              ...        ...  \n",
       "375895    Mayormente nublado (518 m) 2023-12-31  \n",
       "375896            Mayormente nublado 2023-12-31  \n",
       "375897    Mayormente nublado (518 m) 2023-12-31  \n",
       "375898  Mayormente nublado (2.134 m) 2023-12-31  \n",
       "375899  Mayormente nublado (2.134 m) 2023-12-31  \n",
       "\n",
       "[375900 rows x 7 columns]"
      ]
     },
     "execution_count": 73,
     "metadata": {},
     "output_type": "execute_result"
    }
   ],
   "source": [
    "df_comp = df_comp[df_comp[\"Fecha\"] <= \"2023-12-31\"]\n",
    "df_comp"
   ]
  },
  {
   "cell_type": "code",
   "execution_count": 74,
   "metadata": {},
   "outputs": [
    {
     "data": {
      "text/html": [
       "<div>\n",
       "<style scoped>\n",
       "    .dataframe tbody tr th:only-of-type {\n",
       "        vertical-align: middle;\n",
       "    }\n",
       "\n",
       "    .dataframe tbody tr th {\n",
       "        vertical-align: top;\n",
       "    }\n",
       "\n",
       "    .dataframe thead th {\n",
       "        text-align: right;\n",
       "    }\n",
       "</style>\n",
       "<table border=\"1\" class=\"dataframe\">\n",
       "  <thead>\n",
       "    <tr style=\"text-align: right;\">\n",
       "      <th></th>\n",
       "      <th>Hora</th>\n",
       "      <th>Temp.</th>\n",
       "      <th>Alt.</th>\n",
       "      <th>Viento</th>\n",
       "      <th>Vis.</th>\n",
       "      <th>Nubosidad</th>\n",
       "      <th>Fecha</th>\n",
       "    </tr>\n",
       "  </thead>\n",
       "  <tbody>\n",
       "    <tr>\n",
       "      <th>0</th>\n",
       "      <td>12:00 a. m.</td>\n",
       "      <td>11.0</td>\n",
       "      <td>1.025 mbar</td>\n",
       "      <td>-</td>\n",
       "      <td>11,3 km</td>\n",
       "      <td>Parcialmente nublado</td>\n",
       "      <td>2000-01-01 00:00:00</td>\n",
       "    </tr>\n",
       "    <tr>\n",
       "      <th>1</th>\n",
       "      <td>1:00 a. m.</td>\n",
       "      <td>11.7</td>\n",
       "      <td>1.024 mbar</td>\n",
       "      <td>7,20 km/h, O</td>\n",
       "      <td>10,00 km</td>\n",
       "      <td>Six oktas - 7/10 - 8/10</td>\n",
       "      <td>2000-01-01 00:00:00</td>\n",
       "    </tr>\n",
       "    <tr>\n",
       "      <th>2</th>\n",
       "      <td>2:00 a. m.</td>\n",
       "      <td>11.0</td>\n",
       "      <td>1.024 mbar</td>\n",
       "      <td>0 km/h</td>\n",
       "      <td>11,3 km</td>\n",
       "      <td>Parcialmente nublado</td>\n",
       "      <td>2000-01-01 00:00:00</td>\n",
       "    </tr>\n",
       "    <tr>\n",
       "      <th>3</th>\n",
       "      <td>3:00 a. m.</td>\n",
       "      <td>0.0</td>\n",
       "      <td>No hay informes</td>\n",
       "      <td>No hay informes</td>\n",
       "      <td>No hay informes</td>\n",
       "      <td>NaN</td>\n",
       "      <td>2000-01-01 00:00:00</td>\n",
       "    </tr>\n",
       "    <tr>\n",
       "      <th>4</th>\n",
       "      <td>4:00 a. m.</td>\n",
       "      <td>11.0</td>\n",
       "      <td>-</td>\n",
       "      <td>0 km/h</td>\n",
       "      <td>12,0 km</td>\n",
       "      <td>Six oktas - 7/10 - 8/10</td>\n",
       "      <td>2000-01-01 00:00:00</td>\n",
       "    </tr>\n",
       "    <tr>\n",
       "      <th>...</th>\n",
       "      <td>...</td>\n",
       "      <td>...</td>\n",
       "      <td>...</td>\n",
       "      <td>...</td>\n",
       "      <td>...</td>\n",
       "      <td>...</td>\n",
       "      <td>...</td>\n",
       "    </tr>\n",
       "    <tr>\n",
       "      <th>386134</th>\n",
       "      <td>7:00 p. m.</td>\n",
       "      <td>15.0</td>\n",
       "      <td>1.025 mbar</td>\n",
       "      <td>9,26 km/h, O</td>\n",
       "      <td>10,00 km</td>\n",
       "      <td>Mayormente nublado (610 m)</td>\n",
       "      <td>2024-12-31</td>\n",
       "    </tr>\n",
       "    <tr>\n",
       "      <th>386135</th>\n",
       "      <td>8:00 p. m.</td>\n",
       "      <td>15.0</td>\n",
       "      <td>1.026 mbar</td>\n",
       "      <td>7,41 km/h, O</td>\n",
       "      <td>10,00 km</td>\n",
       "      <td>Parcialmente nublado (610 m)</td>\n",
       "      <td>2024-12-31</td>\n",
       "    </tr>\n",
       "    <tr>\n",
       "      <th>386136</th>\n",
       "      <td>9:00 p. m.</td>\n",
       "      <td>13.0</td>\n",
       "      <td>1.026 mbar</td>\n",
       "      <td>3,70 km/h</td>\n",
       "      <td>10,00 km</td>\n",
       "      <td>Mayormente despejado (610 m)</td>\n",
       "      <td>2024-12-31</td>\n",
       "    </tr>\n",
       "    <tr>\n",
       "      <th>386137</th>\n",
       "      <td>10:00 p. m.</td>\n",
       "      <td>11.0</td>\n",
       "      <td>1.027 mbar</td>\n",
       "      <td>0 km/h</td>\n",
       "      <td>10,00 km</td>\n",
       "      <td>Parcialmente nublado (2.134 m)</td>\n",
       "      <td>2024-12-31</td>\n",
       "    </tr>\n",
       "    <tr>\n",
       "      <th>386138</th>\n",
       "      <td>11:00 p. m.</td>\n",
       "      <td>10.0</td>\n",
       "      <td>1.027 mbar</td>\n",
       "      <td>5,56 km/h, N</td>\n",
       "      <td>10,00 km</td>\n",
       "      <td>Parcialmente nublado (2.134 m)</td>\n",
       "      <td>2024-12-31</td>\n",
       "    </tr>\n",
       "  </tbody>\n",
       "</table>\n",
       "<p>386139 rows × 7 columns</p>\n",
       "</div>"
      ],
      "text/plain": [
       "               Hora  Temp.             Alt.           Viento             Vis.  \\\n",
       "0       12:00 a. m.   11.0       1.025 mbar                -          11,3 km   \n",
       "1        1:00 a. m.   11.7       1.024 mbar     7,20 km/h, O         10,00 km   \n",
       "2        2:00 a. m.   11.0       1.024 mbar           0 km/h          11,3 km   \n",
       "3        3:00 a. m.    0.0  No hay informes  No hay informes  No hay informes   \n",
       "4        4:00 a. m.   11.0                -           0 km/h          12,0 km   \n",
       "...             ...    ...              ...              ...              ...   \n",
       "386134   7:00 p. m.   15.0       1.025 mbar     9,26 km/h, O         10,00 km   \n",
       "386135   8:00 p. m.   15.0       1.026 mbar     7,41 km/h, O         10,00 km   \n",
       "386136   9:00 p. m.   13.0       1.026 mbar        3,70 km/h         10,00 km   \n",
       "386137  10:00 p. m.   11.0       1.027 mbar           0 km/h         10,00 km   \n",
       "386138  11:00 p. m.   10.0       1.027 mbar     5,56 km/h, N         10,00 km   \n",
       "\n",
       "                             Nubosidad                Fecha  \n",
       "0                 Parcialmente nublado  2000-01-01 00:00:00  \n",
       "1              Six oktas - 7/10 - 8/10  2000-01-01 00:00:00  \n",
       "2                 Parcialmente nublado  2000-01-01 00:00:00  \n",
       "3                                  NaN  2000-01-01 00:00:00  \n",
       "4              Six oktas - 7/10 - 8/10  2000-01-01 00:00:00  \n",
       "...                                ...                  ...  \n",
       "386134      Mayormente nublado (610 m)           2024-12-31  \n",
       "386135    Parcialmente nublado (610 m)           2024-12-31  \n",
       "386136    Mayormente despejado (610 m)           2024-12-31  \n",
       "386137  Parcialmente nublado (2.134 m)           2024-12-31  \n",
       "386138  Parcialmente nublado (2.134 m)           2024-12-31  \n",
       "\n",
       "[386139 rows x 7 columns]"
      ]
     },
     "execution_count": 74,
     "metadata": {},
     "output_type": "execute_result"
    }
   ],
   "source": [
    "dfs = pd.concat([df_comp, df_2024], ignore_index=True)\n",
    "dfs"
   ]
  },
  {
   "cell_type": "code",
   "execution_count": 75,
   "metadata": {},
   "outputs": [],
   "source": [
    "#years = range(2000, 2025, 1)\n",
    "#\n",
    "#dfs = pd.DataFrame()\n",
    "#for year in years:\n",
    "#    df = pd.read_csv(f'./Raw/Raw_Weather_Spark_{year}.csv')\n",
    "#    dfs = pd.concat([dfs, df])"
   ]
  },
  {
   "cell_type": "markdown",
   "metadata": {},
   "source": [
    "## Limpiar datos"
   ]
  },
  {
   "cell_type": "markdown",
   "metadata": {},
   "source": [
    "### Horas"
   ]
  },
  {
   "cell_type": "code",
   "execution_count": 76,
   "metadata": {},
   "outputs": [
    {
     "name": "stderr",
     "output_type": "stream",
     "text": [
      "C:\\Users\\Edward\\AppData\\Local\\Temp\\ipykernel_5988\\1237299464.py:20: UserWarning: Could not infer format, so each element will be parsed individually, falling back to `dateutil`. To ensure parsing is consistent and as-expected, please specify a format.\n",
      "  dfs[\"Fecha_Hora\"] = pd.to_datetime(dfs[\"Fecha\"].astype(str) + \" \" + dfs[\"Hora\"].astype(str))\n"
     ]
    }
   ],
   "source": [
    "def convert_to_24h(hour_str):\n",
    "    hour_str = hour_str.strip()\n",
    "    if 'p. m.' in hour_str:\n",
    "        hour_str = hour_str.replace('p. m.', '').strip()\n",
    "        hour, minute = hour_str.split(':')\n",
    "        hour = int(hour)\n",
    "        if hour != 12:\n",
    "            hour += 12\n",
    "    else:\n",
    "        hour_str = hour_str.replace('a. m.', '').strip()\n",
    "        hour, minute = hour_str.split(':')\n",
    "        hour = int(hour)\n",
    "        if hour == 12:\n",
    "            hour = 0\n",
    "    return f\"{hour:02}:{minute}\"\n",
    "\n",
    "dfs['Hora'] = dfs['Hora'].apply(convert_to_24h)\n",
    "dfs[\"Hora\"] = dfs[\"Hora\"]+\":00\"\n",
    "dfs['Hora'] = pd.to_datetime(dfs['Hora'], format='%H:%M:%S').dt.time\n",
    "dfs[\"Fecha_Hora\"] = pd.to_datetime(dfs[\"Fecha\"].astype(str) + \" \" + dfs[\"Hora\"].astype(str))\n",
    "#dfs = dfs.drop(columns=['Fecha', 'Hora'])\n",
    "# Eliminar duplicados manteniendo la última ocurrencia\n",
    "dfs = dfs.drop_duplicates(subset=['Fecha_Hora'], keep='last')\n",
    "# Eliminar las filas con minutos diferentes de \"00:00\"\n",
    "dfs = dfs[dfs['Fecha_Hora'].dt.minute == 0]"
   ]
  },
  {
   "cell_type": "markdown",
   "metadata": {},
   "source": [
    "### Temperatura"
   ]
  },
  {
   "cell_type": "code",
   "execution_count": null,
   "metadata": {},
   "outputs": [],
   "source": []
  },
  {
   "cell_type": "markdown",
   "metadata": {},
   "source": [
    "### Altura"
   ]
  },
  {
   "cell_type": "code",
   "execution_count": 77,
   "metadata": {},
   "outputs": [
    {
     "name": "stdout",
     "output_type": "stream",
     "text": [
      "Porcentaje valores nulos antes de rellenado:  5.105428237825958\n",
      "Porcentaje valores nulos antes después de rellenado:  0.0\n"
     ]
    },
    {
     "name": "stderr",
     "output_type": "stream",
     "text": [
      "C:\\Users\\Edward\\AppData\\Local\\Temp\\ipykernel_5988\\632479169.py:9: FutureWarning: Series.fillna with 'method' is deprecated and will raise in a future version. Use obj.ffill() or obj.bfill() instead.\n",
      "  dfs[\"Alt.\"] = dfs[\"Alt.\"].fillna(method='ffill')\n"
     ]
    }
   ],
   "source": [
    "dfs[\"Alt.\"] = dfs[\"Alt.\"].str.replace(\" mbar\", \"\")\n",
    "dfs[\"Alt.\"] = dfs[\"Alt.\"].str.replace(\"-\", \"NaN\")\n",
    "dfs[\"Alt.\"] = dfs[\"Alt.\"].str.replace(\"No hay informes\", \"NaN\")\n",
    "dfs[\"Alt.\"] = dfs[\"Alt.\"].str.replace(\",\", \".\")\n",
    "dfs[\"Alt.\"] = dfs[\"Alt.\"].replace(\"NaN\", np.nan)\n",
    "\n",
    "print(\"Porcentaje valores nulos antes de rellenado: \", (dfs[\"Alt.\"].isna().sum()/len(dfs))*100)\n",
    "\n",
    "dfs[\"Alt.\"] = dfs[\"Alt.\"].fillna(method='ffill')\n",
    "dfs[\"Alt.\"] = dfs[\"Alt.\"].astype(float)\n",
    "\n",
    "print(\"Porcentaje valores nulos antes después de rellenado: \", (dfs[\"Alt.\"].isna().sum()/len(dfs))*100)"
   ]
  },
  {
   "cell_type": "markdown",
   "metadata": {},
   "source": [
    "### Velocidad y dirección viento"
   ]
  },
  {
   "cell_type": "code",
   "execution_count": 78,
   "metadata": {},
   "outputs": [
    {
     "name": "stdout",
     "output_type": "stream",
     "text": [
      "Porcentaje valores nulos antes de rellenado:  4.575196318597038\n",
      "Porcentaje valores nulos después de rellenado:  0.00045788594061219355\n"
     ]
    },
    {
     "name": "stderr",
     "output_type": "stream",
     "text": [
      "C:\\Users\\Edward\\AppData\\Local\\Temp\\ipykernel_5988\\1975134846.py:12: FutureWarning: Series.fillna with 'method' is deprecated and will raise in a future version. Use obj.ffill() or obj.bfill() instead.\n",
      "  dfs[\"Vel_Viento\"] = dfs[\"Vel_Viento\"].fillna(method='ffill')\n"
     ]
    }
   ],
   "source": [
    "dfs[['Vel_Viento', 'Dir_Viento']] = dfs['Viento'].str.split(', ', expand=True)\n",
    "dfs['Vel_Viento'] = dfs['Vel_Viento'].str.replace(' km/h', '')\n",
    "dfs = dfs.drop(columns=['Viento'])\n",
    "dfs[\"Vel_Viento\"] = dfs[\"Vel_Viento\"].str.replace(\"No hay informes\", \"NaN\")\n",
    "dfs[\"Vel_Viento\"] = dfs[\"Vel_Viento\"].str.replace(\"-\", \"NaN\")\n",
    "dfs[\"Vel_Viento\"] = dfs[\"Vel_Viento\"].str.replace(\",\", \".\")\n",
    "dfs[\"Vel_Viento\"] = pd.to_numeric(dfs[\"Vel_Viento\"], errors='coerce')\n",
    "dfs[\"Vel_Viento\"] = dfs[\"Vel_Viento\"].replace(\"NaN\", np.nan)\n",
    "\n",
    "print(\"Porcentaje valores nulos antes de rellenado: \", (dfs[\"Vel_Viento\"].isna().sum()/len(dfs))*100)\n",
    "\n",
    "dfs[\"Vel_Viento\"] = dfs[\"Vel_Viento\"].fillna(method='ffill')\n",
    "\n",
    "print(\"Porcentaje valores nulos después de rellenado: \", (dfs[\"Vel_Viento\"].isna().sum()/len(dfs))*100)"
   ]
  },
  {
   "cell_type": "code",
   "execution_count": 79,
   "metadata": {},
   "outputs": [
    {
     "name": "stdout",
     "output_type": "stream",
     "text": [
      "Porcentaje valores nulos antes de rellenado:  28.015293390416446\n"
     ]
    },
    {
     "name": "stderr",
     "output_type": "stream",
     "text": [
      "C:\\Users\\Edward\\AppData\\Local\\Temp\\ipykernel_5988\\1577244530.py:6: FutureWarning: Series.fillna with 'method' is deprecated and will raise in a future version. Use obj.ffill() or obj.bfill() instead.\n",
      "  dfs[\"Dir_Viento\"] = dfs[\"Dir_Viento\"].fillna(method='ffill')\n"
     ]
    },
    {
     "name": "stdout",
     "output_type": "stream",
     "text": [
      "Porcentaje valores nulos después de rellenado:  0.00045788594061219355\n"
     ]
    }
   ],
   "source": [
    "dfs[\"Dir_Viento\"] = dfs[\"Dir_Viento\"].str.replace(\"None\", \"NaN\")\n",
    "dfs[\"Dir_Viento\"] = dfs[\"Dir_Viento\"].replace(\"NaN\", np.nan)\n",
    "\n",
    "print(\"Porcentaje valores nulos antes de rellenado: \", (dfs[\"Dir_Viento\"].isna().sum()/len(dfs))*100)\n",
    "\n",
    "dfs[\"Dir_Viento\"] = dfs[\"Dir_Viento\"].fillna(method='ffill')\n",
    "\n",
    "print(\"Porcentaje valores nulos después de rellenado: \", (dfs[\"Dir_Viento\"].isna().sum()/len(dfs))*100)"
   ]
  },
  {
   "cell_type": "markdown",
   "metadata": {},
   "source": [
    "### Vis."
   ]
  },
  {
   "cell_type": "code",
   "execution_count": 80,
   "metadata": {},
   "outputs": [
    {
     "name": "stdout",
     "output_type": "stream",
     "text": [
      "Porcentaje valores nulos antes de rellenado:  3.4982485862771586\n"
     ]
    },
    {
     "name": "stderr",
     "output_type": "stream",
     "text": [
      "C:\\Users\\Edward\\AppData\\Local\\Temp\\ipykernel_5988\\126842792.py:9: FutureWarning: Series.fillna with 'method' is deprecated and will raise in a future version. Use obj.ffill() or obj.bfill() instead.\n",
      "  dfs[\"Vis.\"] = dfs[\"Vis.\"].fillna(method='ffill')\n"
     ]
    },
    {
     "name": "stdout",
     "output_type": "stream",
     "text": [
      "Porcentaje valores nulos antes de rellenado:  0.0018315437624487742\n",
      "Porcentaje valores nulos después de rellenado:  0.0\n"
     ]
    },
    {
     "name": "stderr",
     "output_type": "stream",
     "text": [
      "C:\\Users\\Edward\\AppData\\Local\\Temp\\ipykernel_5988\\126842792.py:13: FutureWarning: Series.fillna with 'method' is deprecated and will raise in a future version. Use obj.ffill() or obj.bfill() instead.\n",
      "  dfs[\"Vis.\"] = dfs[\"Vis.\"].fillna(method='ffill')\n"
     ]
    }
   ],
   "source": [
    "dfs[\"Vis.\"] = dfs[\"Vis.\"].str.replace(\" km\", \"\")\n",
    "dfs[\"Vis.\"] = dfs[\"Vis.\"].str.replace(\"-\", \"NaN\")\n",
    "dfs[\"Vis.\"] = dfs[\"Vis.\"].str.replace(\",\", \".\")\n",
    "dfs[\"Vis.\"] = dfs[\"Vis.\"].str.replace(\"No hay informes\", \"NaN\")\n",
    "dfs[\"Vis.\"] = dfs[\"Vis.\"].replace(\"NaN\", np.nan)\n",
    "\n",
    "print(\"Porcentaje valores nulos antes de rellenado: \", (dfs[\"Vis.\"].isna().sum()/len(dfs))*100)\n",
    "\n",
    "dfs[\"Vis.\"] = dfs[\"Vis.\"].fillna(method='ffill')\n",
    "dfs[\"Vis.\"] = pd.to_numeric(dfs[\"Vis.\"], errors='coerce')\n",
    "\n",
    "print(\"Porcentaje valores nulos antes de rellenado: \", (dfs[\"Vis.\"].isna().sum()/len(dfs))*100)\n",
    "dfs[\"Vis.\"] = dfs[\"Vis.\"].fillna(method='ffill')\n",
    "\n",
    "print(\"Porcentaje valores nulos después de rellenado: \", (dfs[\"Vis.\"].isna().sum()/len(dfs))*100)"
   ]
  },
  {
   "cell_type": "markdown",
   "metadata": {},
   "source": [
    "### Nubosidad"
   ]
  },
  {
   "cell_type": "code",
   "execution_count": 81,
   "metadata": {},
   "outputs": [
    {
     "name": "stdout",
     "output_type": "stream",
     "text": [
      "Porcentaje valores nulos antes de rellenado:  3.9350717736211913\n",
      "Porcentaje valores nulos después de rellenado:  0.0\n"
     ]
    },
    {
     "name": "stderr",
     "output_type": "stream",
     "text": [
      "C:\\Users\\Edward\\AppData\\Local\\Temp\\ipykernel_5988\\2257796850.py:23: FutureWarning: Series.fillna with 'method' is deprecated and will raise in a future version. Use obj.ffill() or obj.bfill() instead.\n",
      "  dfs[\"Nubosidad\"] = dfs[\"Nubosidad\"].fillna(method='ffill')\n"
     ]
    }
   ],
   "source": [
    "dfs['Nubosidad'] = dfs['Nubosidad'].replace(np.nan, '-')\n",
    "# Función para separar la descripción de la altitud\n",
    "def separar_nubosidad_altitud(valor):\n",
    "    if '(' in valor:\n",
    "        # Si hay un valor con paréntesis, separamos la descripción y la altitud\n",
    "        descripcion, altitud = valor.split('(')\n",
    "        descripcion = descripcion.strip()  # Limpiamos espacios adicionales\n",
    "        altitud = altitud.replace(')', '').strip()  # Limpiamos paréntesis y espacios\n",
    "    else:\n",
    "        # Si no hay paréntesis, la altitud es NaN\n",
    "        descripcion = valor.strip()\n",
    "        altitud = np.nan\n",
    "    \n",
    "    return pd.Series([descripcion, altitud])\n",
    "dfs[['Nubosidad', 'altitud_metros']] = dfs['Nubosidad'].apply(separar_nubosidad_altitud)\n",
    "\n",
    "dfs['altitud_metros'] = pd.to_numeric(dfs['altitud_metros'].str.replace(' m', ''), errors='coerce')\n",
    "dfs['Nubosidad'] = dfs['Nubosidad'].replace('-', np.nan)\n",
    "dfs = dfs.drop(columns=['altitud_metros'])\n",
    "\n",
    "print(\"Porcentaje valores nulos antes de rellenado: \", (dfs[\"Nubosidad\"].isna().sum()/len(dfs))*100)\n",
    "\n",
    "dfs[\"Nubosidad\"] = dfs[\"Nubosidad\"].fillna(method='ffill')\n",
    "\n",
    "print(\"Porcentaje valores nulos después de rellenado: \", (dfs[\"Nubosidad\"].isna().sum()/len(dfs))*100)"
   ]
  },
  {
   "cell_type": "code",
   "execution_count": 82,
   "metadata": {},
   "outputs": [],
   "source": [
    "nubosidad_mapeo = {\n",
    "    'No se detectaron nubes': 0,\n",
    "    'Cielo y visibilidad bien': 0,\n",
    "    'Pocas nubes': 1,\n",
    "    'One okta - 1/10 or less but not zero': 1,\n",
    "    'Mayormente despejado': 2,\n",
    "    'Three oktas - 4/10': 3,\n",
    "    'Five oktas - 6/10': 4,\n",
    "    'Parcialmente nublado': 5,\n",
    "    'Six oktas - 7/10 - 8/10': 6,\n",
    "    'Mayormente nublado': 7,\n",
    "    'Nublado': 8\n",
    "}\n",
    "\n",
    "# Asignar los valores numéricos a la columna \"Valor\"\n",
    "dfs['Nubosidad'] = dfs['Nubosidad'].map(nubosidad_mapeo)"
   ]
  },
  {
   "cell_type": "markdown",
   "metadata": {},
   "source": [
    "## Exportar datos"
   ]
  },
  {
   "cell_type": "code",
   "execution_count": 83,
   "metadata": {},
   "outputs": [
    {
     "data": {
      "text/html": [
       "<div>\n",
       "<style scoped>\n",
       "    .dataframe tbody tr th:only-of-type {\n",
       "        vertical-align: middle;\n",
       "    }\n",
       "\n",
       "    .dataframe tbody tr th {\n",
       "        vertical-align: top;\n",
       "    }\n",
       "\n",
       "    .dataframe thead th {\n",
       "        text-align: right;\n",
       "    }\n",
       "</style>\n",
       "<table border=\"1\" class=\"dataframe\">\n",
       "  <thead>\n",
       "    <tr style=\"text-align: right;\">\n",
       "      <th></th>\n",
       "      <th>Temp.</th>\n",
       "      <th>Vis.</th>\n",
       "      <th>Nubosidad</th>\n",
       "      <th>Fecha_Hora</th>\n",
       "      <th>Vel_Viento</th>\n",
       "    </tr>\n",
       "  </thead>\n",
       "  <tbody>\n",
       "    <tr>\n",
       "      <th>0</th>\n",
       "      <td>11.0</td>\n",
       "      <td>11.3</td>\n",
       "      <td>5</td>\n",
       "      <td>2000-01-01 00:00:00</td>\n",
       "      <td>NaN</td>\n",
       "    </tr>\n",
       "    <tr>\n",
       "      <th>1</th>\n",
       "      <td>11.7</td>\n",
       "      <td>10.0</td>\n",
       "      <td>6</td>\n",
       "      <td>2000-01-01 01:00:00</td>\n",
       "      <td>7.20</td>\n",
       "    </tr>\n",
       "    <tr>\n",
       "      <th>2</th>\n",
       "      <td>11.0</td>\n",
       "      <td>11.3</td>\n",
       "      <td>5</td>\n",
       "      <td>2000-01-01 02:00:00</td>\n",
       "      <td>0.00</td>\n",
       "    </tr>\n",
       "    <tr>\n",
       "      <th>3</th>\n",
       "      <td>0.0</td>\n",
       "      <td>11.3</td>\n",
       "      <td>5</td>\n",
       "      <td>2000-01-01 03:00:00</td>\n",
       "      <td>0.00</td>\n",
       "    </tr>\n",
       "    <tr>\n",
       "      <th>4</th>\n",
       "      <td>11.0</td>\n",
       "      <td>12.0</td>\n",
       "      <td>6</td>\n",
       "      <td>2000-01-01 04:00:00</td>\n",
       "      <td>0.00</td>\n",
       "    </tr>\n",
       "    <tr>\n",
       "      <th>...</th>\n",
       "      <td>...</td>\n",
       "      <td>...</td>\n",
       "      <td>...</td>\n",
       "      <td>...</td>\n",
       "      <td>...</td>\n",
       "    </tr>\n",
       "    <tr>\n",
       "      <th>386134</th>\n",
       "      <td>15.0</td>\n",
       "      <td>10.0</td>\n",
       "      <td>7</td>\n",
       "      <td>2024-12-31 19:00:00</td>\n",
       "      <td>9.26</td>\n",
       "    </tr>\n",
       "    <tr>\n",
       "      <th>386135</th>\n",
       "      <td>15.0</td>\n",
       "      <td>10.0</td>\n",
       "      <td>5</td>\n",
       "      <td>2024-12-31 20:00:00</td>\n",
       "      <td>7.41</td>\n",
       "    </tr>\n",
       "    <tr>\n",
       "      <th>386136</th>\n",
       "      <td>13.0</td>\n",
       "      <td>10.0</td>\n",
       "      <td>2</td>\n",
       "      <td>2024-12-31 21:00:00</td>\n",
       "      <td>3.70</td>\n",
       "    </tr>\n",
       "    <tr>\n",
       "      <th>386137</th>\n",
       "      <td>11.0</td>\n",
       "      <td>10.0</td>\n",
       "      <td>5</td>\n",
       "      <td>2024-12-31 22:00:00</td>\n",
       "      <td>0.00</td>\n",
       "    </tr>\n",
       "    <tr>\n",
       "      <th>386138</th>\n",
       "      <td>10.0</td>\n",
       "      <td>10.0</td>\n",
       "      <td>5</td>\n",
       "      <td>2024-12-31 23:00:00</td>\n",
       "      <td>5.56</td>\n",
       "    </tr>\n",
       "  </tbody>\n",
       "</table>\n",
       "<p>218395 rows × 5 columns</p>\n",
       "</div>"
      ],
      "text/plain": [
       "        Temp.  Vis.  Nubosidad          Fecha_Hora  Vel_Viento\n",
       "0        11.0  11.3          5 2000-01-01 00:00:00         NaN\n",
       "1        11.7  10.0          6 2000-01-01 01:00:00        7.20\n",
       "2        11.0  11.3          5 2000-01-01 02:00:00        0.00\n",
       "3         0.0  11.3          5 2000-01-01 03:00:00        0.00\n",
       "4        11.0  12.0          6 2000-01-01 04:00:00        0.00\n",
       "...       ...   ...        ...                 ...         ...\n",
       "386134   15.0  10.0          7 2024-12-31 19:00:00        9.26\n",
       "386135   15.0  10.0          5 2024-12-31 20:00:00        7.41\n",
       "386136   13.0  10.0          2 2024-12-31 21:00:00        3.70\n",
       "386137   11.0  10.0          5 2024-12-31 22:00:00        0.00\n",
       "386138   10.0  10.0          5 2024-12-31 23:00:00        5.56\n",
       "\n",
       "[218395 rows x 5 columns]"
      ]
     },
     "execution_count": 83,
     "metadata": {},
     "output_type": "execute_result"
    }
   ],
   "source": [
    "dfs.drop(columns=[\"Fecha\",\"Hora\",\"Dir_Viento\",\"Alt.\"], inplace=True, errors='ignore')\n",
    "dfs"
   ]
  },
  {
   "cell_type": "code",
   "execution_count": 84,
   "metadata": {},
   "outputs": [],
   "source": [
    "dfs = dfs.dropna() # drop first row with NaN values\n",
    "#dfs[\"Estacion\"] = \"Aeropuerto El Dorado\""
   ]
  },
  {
   "cell_type": "code",
   "execution_count": 85,
   "metadata": {},
   "outputs": [],
   "source": [
    "dfs.to_excel(f'./Clean/Bogota_sec_cross_Weather_Spark.xlsx', index=False)"
   ]
  },
  {
   "cell_type": "markdown",
   "metadata": {},
   "source": [
    "# Datos panel"
   ]
  },
  {
   "cell_type": "code",
   "execution_count": 86,
   "metadata": {},
   "outputs": [],
   "source": [
    "panel = pd.melt(dfs, id_vars=['Fecha_Hora'], var_name='Variable', value_name='Valor')\n",
    "del dfs\n",
    "panel.to_excel(f'./Clean/Bogota_Panel_Weather_Spark.xlsx', index=False)\n",
    "\n",
    "#panel.to_csv(f'../Datos/Weather_Spark/Clean/Panel_Weather_Spark_Bogotá.csv', index=False)"
   ]
  }
 ],
 "metadata": {
  "kernelspec": {
   "display_name": "Python 3",
   "language": "python",
   "name": "python3"
  },
  "language_info": {
   "codemirror_mode": {
    "name": "ipython",
    "version": 3
   },
   "file_extension": ".py",
   "mimetype": "text/x-python",
   "name": "python",
   "nbconvert_exporter": "python",
   "pygments_lexer": "ipython3",
   "version": "3.11.0"
  }
 },
 "nbformat": 4,
 "nbformat_minor": 2
}

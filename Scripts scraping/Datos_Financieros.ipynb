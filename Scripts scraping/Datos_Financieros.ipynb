{
 "cells": [
  {
   "cell_type": "markdown",
   "metadata": {},
   "source": [
    "# Librerías"
   ]
  },
  {
   "cell_type": "code",
   "execution_count": 39,
   "metadata": {},
   "outputs": [],
   "source": [
    "import pandas as pd\n",
    "import yfinance as yf\n",
    "import numpy as np\n",
    "import warnings\n",
    "warnings.filterwarnings(\"ignore\")"
   ]
  },
  {
   "cell_type": "markdown",
   "metadata": {},
   "source": [
    "# Función"
   ]
  },
  {
   "cell_type": "code",
   "execution_count": 40,
   "metadata": {},
   "outputs": [],
   "source": [
    "def get_data(tickers, start_date, end_date, interval):\n",
    "    data = yf.download(tickers, start=start_date, end=end_date, interval=interval).tz_localize(None)\n",
    "    #if len(tickers) > 1:\n",
    "    #    #data = data[tickers]\n",
    "    #    #data = data.dropna(axis=1)\n",
    "    returns = data.pct_change().dropna()\n",
    "    return data, returns"
   ]
  },
  {
   "cell_type": "markdown",
   "metadata": {},
   "source": [
    "# Datos"
   ]
  },
  {
   "cell_type": "markdown",
   "metadata": {},
   "source": [
    "## Tickers"
   ]
  },
  {
   "cell_type": "code",
   "execution_count": 41,
   "metadata": {},
   "outputs": [],
   "source": [
    "tickers = [\n",
    "    [\"BOGOTA.CL\", \"Banco de Bogotá S.A.\"],\n",
    "    [\"BCOLOMBIA.CL\", \"Bancolombia S.A.\"],\n",
    "    [\"ECOPETROL.CL\", \"Ecopetrol S.A.\"],\n",
    "    [\"CELSIA.CL\", \"Celsia S.A. E.S.P.\"],\n",
    "    [\"CEMARGOS.CL\", \"Cementos Argos S.A.\"],\n",
    "    [\"ISA.CL\", \"Interconexión Eléctrica S.A. E.S.P.\"],\n",
    "    [\"PFDAVVNDA.CL\", \"Banco Davivienda S.A.\"],\n",
    "    [\"PFBCOLOM.CL\", \"Bancolombia S.A.\"],\n",
    "    [\"GEB.CL\", \"Grupo Energía Bogotá S.A. E.S.P.\"],\n",
    "    [\"CORFICOLCF.CL\", \"Corporación Financiera Colombiana S.A.\"],\n",
    "    [\"TERPEL.CL\", \"Organización Terpel S.A.\"],\n",
    "    [\"PFGRUPSURA.CL\", \"Grupo de Inversiones Suramericana S.A.\"],\n",
    "    [\"MINEROS.CL\", \"Mineros S.A.\"],\n",
    "    [\"NUTRESA.CL\", \"Grupo Nutresa S.A.\"],\n",
    "    [\"PFAVAL.CL\", \"Grupo Aval Acciones y Valores S.A.\"],\n",
    "    [\"PFGRUPOARG.CL\", \"Grupo Argos S.A.\"],\n",
    "    [\"PROMIGAS.CL\", \"Promigas S.A. E.S.P.\"],\n",
    "    [\"ENKA.CL\", \"Enka de Colombia S.A.\"],\n",
    "    [\"COLTEJER.CL\", \"Coltejer S.A.\"],\n",
    "    [\"FABRICATO.CL\", \"Fabricato S.A.\"],\n",
    "    [\"ETB.CL\", \"Empresa de Telecomunicaciones de Bogotá S.A.\"],\n",
    "    [\"EXITO.CL\", \"Almacenes Éxito S.A.\"],\n",
    "    [\"CONCONCRET.CL\", \"Constructora Conconcreto S.A.\"],\n",
    "    [\"GRUPOARGos.CL\", \"Grupo Argos S.A.\"],\n",
    "    [\"PFGRUPOARG.CL\", \"Grupo Argos S.A. Preferencial\"],\n",
    "    [\"GRUPOSURA.CL\", \"Grupo de Inversiones Suramericana S.A.\"],\n",
    "    [\"PFGRUPSURA.CL\", \"Grupo de Inversiones Suramericana S.A. Pref.\"],\n",
    "    [\"PFAVAL.CL\", \"Grupo Aval Acciones y Valores S.A. Pref.\"],\n",
    "    [\"PFBCOLOM.CL\", \"Bancolombia S.A. Preferencial\"],\n",
    "    [\"PFDAVVNDA.CL\", \"Banco Davivienda S.A. Preferencial\"],\n",
    "    [\"CNEC.CL\", \"Canacol Energy Ltd.\"],\n",
    "    [\"BVC.CL\", \"Bolsa de Valores de Colombia S.A.\"]\n",
    "]\n",
    "tickers_df = pd.DataFrame(tickers, columns=[\"Ticker\", \"Empresa\"])"
   ]
  },
  {
   "cell_type": "markdown",
   "metadata": {},
   "source": [
    "## Descarga"
   ]
  },
  {
   "cell_type": "code",
   "execution_count": 42,
   "metadata": {},
   "outputs": [
    {
     "name": "stderr",
     "output_type": "stream",
     "text": [
      "[*********************100%***********************]  1 of 1 completed\n",
      "[*********************100%***********************]  1 of 1 completed\n",
      "[*********************100%***********************]  1 of 1 completed\n",
      "[*********************100%***********************]  1 of 1 completed\n",
      "[*********************100%***********************]  1 of 1 completed\n",
      "[*********************100%***********************]  1 of 1 completed\n",
      "[*********************100%***********************]  1 of 1 completed\n",
      "[*********************100%***********************]  1 of 1 completed\n",
      "[*********************100%***********************]  1 of 1 completed\n",
      "[*********************100%***********************]  1 of 1 completed\n",
      "[*********************100%***********************]  1 of 1 completed\n",
      "[*********************100%***********************]  1 of 1 completed\n",
      "[*********************100%***********************]  1 of 1 completed\n",
      "[*********************100%***********************]  1 of 1 completed\n",
      "[*********************100%***********************]  1 of 1 completed\n",
      "[*********************100%***********************]  1 of 1 completed\n",
      "[*********************100%***********************]  1 of 1 completed\n",
      "[*********************100%***********************]  1 of 1 completed\n",
      "[*********************100%***********************]  1 of 1 completed\n",
      "[*********************100%***********************]  1 of 1 completed\n",
      "[*********************100%***********************]  1 of 1 completed\n",
      "[*********************100%***********************]  1 of 1 completed\n",
      "[*********************100%***********************]  1 of 1 completed\n",
      "[*********************100%***********************]  1 of 1 completed\n",
      "[*********************100%***********************]  1 of 1 completed\n",
      "[*********************100%***********************]  1 of 1 completed\n",
      "[*********************100%***********************]  1 of 1 completed\n",
      "[*********************100%***********************]  1 of 1 completed\n",
      "[*********************100%***********************]  1 of 1 completed\n",
      "[*********************100%***********************]  1 of 1 completed\n",
      "[*********************100%***********************]  1 of 1 completed\n",
      "[*********************100%***********************]  1 of 1 completed\n"
     ]
    }
   ],
   "source": [
    "tickers = tickers_df[\"Ticker\"].to_list()\n",
    "start_date = \"2000-01-01\"\n",
    "end_date = \"2024-12-31\"\n",
    "\n",
    "min_dates = []\n",
    "for ticker in tickers:\n",
    "\n",
    "    data, returns = get_data(ticker, start_date, end_date, \"1d\")\n",
    "    min_dates.append(data.index.min())\n",
    "    data.to_excel(f\"./Acciones/{ticker}.xlsx\")\n",
    "    \n",
    "tickers_df[\"Fecha_Inicio\"] = min_dates\n",
    "tickers_df.to_excel(\"./Acciones/Info_Acciones.xlsx\")"
   ]
  }
 ],
 "metadata": {
  "kernelspec": {
   "display_name": "Python 3",
   "language": "python",
   "name": "python3"
  },
  "language_info": {
   "codemirror_mode": {
    "name": "ipython",
    "version": 3
   },
   "file_extension": ".py",
   "mimetype": "text/x-python",
   "name": "python",
   "nbconvert_exporter": "python",
   "pygments_lexer": "ipython3",
   "version": "3.11.0"
  }
 },
 "nbformat": 4,
 "nbformat_minor": 2
}

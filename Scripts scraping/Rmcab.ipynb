{
 "cells": [
  {
   "cell_type": "code",
   "execution_count": 1,
   "metadata": {},
   "outputs": [],
   "source": [
    "import pandas as pd\n",
    "from bs4 import BeautifulSoup as soup\n",
    "import requests\n",
    "import re\n",
    "import time \n",
    "import warnings\n",
    "import numpy as np\n",
    "warnings.filterwarnings(\"ignore\")"
   ]
  },
  {
   "cell_type": "code",
   "execution_count": 2,
   "metadata": {},
   "outputs": [],
   "source": [
    "def get_html(url):\n",
    "    response = requests.get(url)\n",
    "    return soup(response.text)"
   ]
  },
  {
   "cell_type": "code",
   "execution_count": 3,
   "metadata": {},
   "outputs": [],
   "source": [
    "fechas = pd.date_range(start=\"2024-01-01\", end=\"2024-12-31\", freq=\"D\")\n",
    "final_df = pd.DataFrame()\n",
    "current_year = fechas[0].year  # Inicializa el primer año\n",
    "start_time = time.time()\n",
    "\n",
    "for fecha in fechas:\n",
    "    try:\n",
    "        url = \"http://rmcab.ambientebogota.gov.co/Report/HourlyReports?id=1&UserDateString=\" + str(fecha.date())\n",
    "        html = get_html(url)\n",
    "        time.sleep(1)\n",
    "        \n",
    "        tablas = html.find_all(\"div\", class_=\"TableStation\")\n",
    "        for tabla in tablas:\n",
    "            estacion = tabla.find(\"h2\").text.strip()\n",
    "            table = tabla.find(\"table\")\n",
    "            rows = tabla.find_all(\"tr\")\n",
    "\n",
    "            table_data = []\n",
    "\n",
    "            for row in rows:\n",
    "                columns = row.find_all([\"td\", \"th\"])\n",
    "                columns = [col.get_text(strip=True) for col in columns]\n",
    "                table_data.append(columns)\n",
    "\n",
    "            df = pd.DataFrame(table_data)\n",
    "\n",
    "            df.columns = df.iloc[0]\n",
    "            df = df[1:]  \n",
    "            df[\"Fecha\"] = fecha\n",
    "            df[\"Estación\"] = estacion\n",
    "            final_df = pd.concat([final_df, df], ignore_index=True)\n",
    "\n",
    "        if fecha.year != current_year:\n",
    "\n",
    "            end_time = time.time()\n",
    "            elapsed_time = end_time - start_time\n",
    "\n",
    "            #final_df.to_excel(f\"../Datos/RMCAB/Raw/Raw_RMCAB_{current_year}.xlsx\", index=False)\n",
    "            final_df.to_excel(f\"./Raw_RMCAB_{current_year}.xlsx\", index=False)\n",
    "            print(f\"Guardado archivo para el año {current_year}\")\n",
    "            print(f\"Tiempo transcurrido para descargar los datos de {current_year}: {elapsed_time/60:.2f} minutos\")\n",
    "\n",
    "            final_df = pd.DataFrame()\n",
    "            current_year = fecha.year\n",
    "            start_time = time.time() \n",
    "    except Exception as e:\n",
    "        print(f\"Error en {fecha}: {e}\")\n",
    "        continue\n",
    "\n",
    "if not final_df.empty:\n",
    "    end_time = time.time()\n",
    "    elapsed_time = end_time - start_time\n",
    "    final_df.to_excel(f\"./Raw_RMCAB_{current_year}.xlsx\", index=False)"
   ]
  },
  {
   "cell_type": "code",
   "execution_count": 7,
   "metadata": {},
   "outputs": [],
   "source": [
    "#final_df.to_csv(f\"../Datos/Raw_RMCAB_{2025}.csv\", index=False)\n",
    "#final_df.to_excel(f\"../Datos/Raw_RMCAB_{2025}.xlsx\", index=False)"
   ]
  }
 ],
 "metadata": {
  "kernelspec": {
   "display_name": "Python 3",
   "language": "python",
   "name": "python3"
  },
  "language_info": {
   "codemirror_mode": {
    "name": "ipython",
    "version": 3
   },
   "file_extension": ".py",
   "mimetype": "text/x-python",
   "name": "python",
   "nbconvert_exporter": "python",
   "pygments_lexer": "ipython3",
   "version": "3.11.0"
  }
 },
 "nbformat": 4,
 "nbformat_minor": 2
}

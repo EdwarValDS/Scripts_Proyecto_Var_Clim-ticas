{
 "cells": [
  {
   "cell_type": "code",
   "execution_count": 1,
   "metadata": {},
   "outputs": [],
   "source": [
    "import pandas as pd\n",
    "from bs4 import BeautifulSoup as soup\n",
    "import requests\n",
    "import re\n",
    "import time \n",
    "import warnings\n",
    "import numpy as np\n",
    "warnings.filterwarnings(\"ignore\")"
   ]
  },
  {
   "cell_type": "code",
   "execution_count": 2,
   "metadata": {},
   "outputs": [],
   "source": [
    "def get_html(url):\n",
    "    response = requests.get(url)\n",
    "    return soup(response.text)"
   ]
  },
  {
   "cell_type": "code",
   "execution_count": 3,
   "metadata": {},
   "outputs": [
    {
     "name": "stdout",
     "output_type": "stream",
     "text": [
      "Guardado archivo para el año 2024\n",
      "Tiempo transcurrido para descargar los datos de 2024: 27.74 minutos\n"
     ]
    }
   ],
   "source": [
    "fechas = pd.date_range(start=\"2024-01-01\", end=\"2025-01-01\", freq=\"D\")\n",
    "final_df = pd.DataFrame()\n",
    "current_year = fechas[0].year  # Inicializa el primer año\n",
    "start_time = time.time()\n",
    "\n",
    "for fecha in fechas:\n",
    "    try:\n",
    "\n",
    "        url = f\"https://es.weatherspark.com/h/d/21493/{fecha.year}/{fecha.month}/{fecha.day}/Tiempo-hist%C3%B3rico\"\n",
    "        html = get_html(url)\n",
    "        time.sleep(4)\n",
    "        \n",
    "        tabla = html.find(\"table\", {\"class\": \"table table-condensed stickyHeader History-MetarReports-outer_table\"})\n",
    "        df = pd.read_html(str(tabla))[0]\n",
    "    \n",
    "        df_filtered = df[df['Hora'].str.match(r'^\\d{1,2}:\\d{2} (a\\. m\\.|p\\. m\\.)')].copy()\n",
    "        df_filtered['Fecha'] = fecha\n",
    "        \n",
    "        final_df = pd.concat([final_df, df_filtered])\n",
    "\n",
    "        if fecha.year != current_year:\n",
    "\n",
    "            end_time = time.time()\n",
    "            elapsed_time = end_time - start_time\n",
    "\n",
    "            final_df.to_csv(f\"../Datos/Weather_Spark/Cali/Raw_Weather_Spark_Cali_{current_year}.csv\", index=False)\n",
    "            print(f\"Guardado archivo para el año {current_year}\")\n",
    "            print(f\"Tiempo transcurrido para descargar los datos de {current_year}: {elapsed_time/60:.2f} minutos\")\n",
    "\n",
    "            final_df = pd.DataFrame()\n",
    "            current_year = fecha.year\n",
    "            start_time = time.time() \n",
    "    except Exception as e:\n",
    "        #print(f\"Error en la fecha {fecha}: {e}\")\n",
    "        continue\n",
    "\n",
    "if not final_df.empty:\n",
    "    end_time = time.time()\n",
    "    elapsed_time = end_time - start_time\n",
    "    final_df.to_csv(f\"../Datos/Weather_Spark/Cali/Raw_Weather_Spark_Cali_{current_year}.csv\", index=False)"
   ]
  },
  {
   "cell_type": "code",
   "execution_count": 4,
   "metadata": {},
   "outputs": [],
   "source": [
    "#final_df.to_csv(f\"../Datos/Raw_Weather_Spark_{2025}.csv\", index=False)\n",
    "#final_df.to_excel(f\"../Datos/Raw_Weather_Spark_{2025}.xlsx\", index=False)"
   ]
  }
 ],
 "metadata": {
  "kernelspec": {
   "display_name": "Python 3",
   "language": "python",
   "name": "python3"
  },
  "language_info": {
   "codemirror_mode": {
    "name": "ipython",
    "version": 3
   },
   "file_extension": ".py",
   "mimetype": "text/x-python",
   "name": "python",
   "nbconvert_exporter": "python",
   "pygments_lexer": "ipython3",
   "version": "3.11.0"
  }
 },
 "nbformat": 4,
 "nbformat_minor": 2
}
